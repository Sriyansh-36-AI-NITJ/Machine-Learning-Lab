import numpy as np
x = np.array([0,1,2,3,3,5,5,5,6,7,7,10])
y = np.array([96,85,82,74,95,68,76,84,58,65,75,50])
n = len(x)

sum_x = np.sum(x)
sum_y = np.sum(y)
sum_xy = np.sum(x * y)
sum_x2 = np.sum(x ** 2)

m = (n * sum_xy - sum_x * sum_y) / (n * sum_x2 - sum_x ** 2)

x_bar = np.mean(x)
y_bar = np.mean(y)

c = y_bar - m * x_bar

print("Slope (m):", m)
print("Intercept (c):", c)

hours=float(input("How any hours have you watched TV: "))
predicted_marks = m*hours + c
print("Predicted Marks:", predicted_marks)
