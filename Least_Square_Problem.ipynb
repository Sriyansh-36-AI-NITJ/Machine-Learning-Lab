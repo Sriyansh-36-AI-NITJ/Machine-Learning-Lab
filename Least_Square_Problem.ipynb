{
 "cells": [
  {
   "cell_type": "code",
   "execution_count": null,
   "id": "9fbcc545",
   "metadata": {},
   "outputs": [
    {
     "name": "stdout",
     "output_type": "stream",
     "text": [
      "Slope (m): -4.067415730337078\n",
      "Intercept (c): 93.97003745318352\n",
      "Predicted Marks: 0.4194756554307162\n"
     ]
    }
   ],
   "source": [
    "import numpy as np\n",
    "x = np.array([0,1,2,3,3,5,5,5,6,7,7,10])\n",
    "y = np.array([96,85,82,74,95,68,76,84,58,65,75,50])\n",
    "n = len(x)\n",
    "\n",
    "sum_x = np.sum(x)\n",
    "sum_y = np.sum(y)\n",
    "sum_xy = np.sum(x * y)\n",
    "sum_x2 = np.sum(x ** 2)\n",
    "\n",
    "m = (n * sum_xy - sum_x * sum_y) / (n * sum_x2 - sum_x ** 2)\n",
    "\n",
    "x_bar = np.mean(x)\n",
    "y_bar = np.mean(y)\n",
    "\n",
    "c = y_bar - m * x_bar\n",
    "\n",
    "print(\"Slope (m):\", m)\n",
    "print(\"Intercept (c):\", c)\n",
    "\n",
    "hours=float(input(\"How any hours have you watched TV: \"))\n",
    "predicted_marks = m*hours + c\n",
    "print(\"Predicted Marks:\", predicted_marks)"
   ]
  },
  {
   "cell_type": "code",
   "execution_count": 12,
   "id": "c1b86934",
   "metadata": {},
   "outputs": [
    {
     "name": "stderr",
     "output_type": "stream",
     "text": [
     ]
    }
   ],
  
   
  }
 ],
 "metadata": {
  "kernelspec": {
   "display_name": "Python 3",
   "language": "python",
   "name": "python3"
  },
  "language_info": {
   "codemirror_mode": {
    "name": "ipython",
    "version": 3
   },
   "file_extension": ".py",
   "mimetype": "text/x-python",
   "name": "python",
   "nbconvert_exporter": "python",
   "pygments_lexer": "ipython3",
   "version": "3.13.7"
  }
 },
 "nbformat": 4,
 "nbformat_minor": 5
}
