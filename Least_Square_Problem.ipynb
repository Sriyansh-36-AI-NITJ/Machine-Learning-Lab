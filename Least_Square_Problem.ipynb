{
  "nbformat": 4,
  "nbformat_minor": 0,
  "metadata": {
    "colab": {
      "provenance": [],
      "authorship_tag": "ABX9TyND6HXyDbf5By835vSZC2Pm",
      "include_colab_link": true
    },
    "kernelspec": {
      "name": "python3",
      "display_name": "Python 3"
    },
    "language_info": {
      "name": "python"
    }
  },
  "cells": [
    {
      "cell_type": "markdown",
      "metadata": {
        "id": "view-in-github",
        "colab_type": "text"
      },
      "source": [
        "<a href=\"https://colab.research.google.com/github/Sriyansh-36-AI-NITJ/Machine-Learning-Lab/blob/main/Least_Square_Problem.ipynb\" target=\"_parent\"><img src=\"https://colab.research.google.com/assets/colab-badge.svg\" alt=\"Open In Colab\"/></a>"
      ]
    },
    {
      "cell_type": "code",
      "execution_count": 1,
      "metadata": {
        "colab": {
          "base_uri": "https://localhost:8080/"
        },
        "id": "Gg_lp0pZIq-2",
        "outputId": "86c75441-6376-49ec-e2f4-25d0439bba97"
      },
      "outputs": [
        {
          "output_type": "stream",
          "name": "stdout",
          "text": [
            "Slope (m): -4.067415730337078\n",
            "Intercept (c): 93.97003745318352\n",
            "How any hours have you watched TV: 9\n",
            "Predicted Marks: 57.36329588014982\n"
          ]
        }
      ],
      "source": [
        "import numpy as np\n",
        "x = np.array([0,1,2,3,3,5,5,5,6,7,7,10])\n",
        "y = np.array([96,85,82,74,95,68,76,84,58,65,75,50])\n",
        "n = len(x)\n",
        "\n",
        "sum_x = np.sum(x)\n",
        "sum_y = np.sum(y)\n",
        "sum_xy = np.sum(x * y)\n",
        "sum_x2 = np.sum(x ** 2)\n",
        "\n",
        "m = (n * sum_xy - sum_x * sum_y) / (n * sum_x2 - sum_x ** 2)\n",
        "\n",
        "x_bar = np.mean(x)\n",
        "y_bar = np.mean(y)\n",
        "\n",
        "c = y_bar - m * x_bar\n",
        "\n",
        "print(\"Slope (m):\", m)\n",
        "print(\"Intercept (c):\", c)\n",
        "\n",
        "hours=float(input(\"How any hours have you watched TV: \"))\n",
        "predicted_marks = m*hours + c\n",
        "print(\"Predicted Marks:\", predicted_marks)"
      ]
    }
  ]
}